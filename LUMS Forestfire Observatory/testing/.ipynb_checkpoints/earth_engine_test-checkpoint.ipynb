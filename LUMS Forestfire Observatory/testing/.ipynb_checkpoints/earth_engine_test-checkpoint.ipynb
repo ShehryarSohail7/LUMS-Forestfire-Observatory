{
 "cells": [
  {
   "cell_type": "code",
   "execution_count": 18,
   "metadata": {
    "colab": {
     "base_uri": "https://localhost:8080/"
    },
    "id": "Le2uue4nonFJ",
    "outputId": "3957ac99-1618-4066-e7c2-5dddab27587a"
   },
   "outputs": [],
   "source": [
    "# prompt: connect to google drive\n",
    "\n",
    "# from google.colab import drive\n",
    "# drive.mount('/content/drive')\n",
    "\n",
    "from math import radians, cos, sin, atan2, sqrt, degrees"
   ]
  },
  {
   "cell_type": "code",
   "execution_count": 19,
   "metadata": {
    "id": "xVjJMgv6pWmh"
   },
   "outputs": [],
   "source": [
    "import ee\n",
    "import os\n",
    "import math\n",
    "from tqdm import tqdm"
   ]
  },
  {
   "cell_type": "code",
   "execution_count": 20,
   "metadata": {
    "colab": {
     "base_uri": "https://localhost:8080/"
    },
    "id": "u1315Tb0pc4y",
    "outputId": "b69c356e-cefd-4bc9-f3c5-3f5dd6c84563"
   },
   "outputs": [
    {
     "name": "stdout",
     "output_type": "stream",
     "text": [
      "Hello, Earth Engine!\n"
     ]
    }
   ],
   "source": [
    "ee.Authenticate()\n",
    "service_account = \"lums-forest-fire-observatory@forest-fire-obs.iam.gserviceaccount.com\"\n",
    "credentials = ee.ServiceAccountCredentials(service_account, \"forest-fire-obs-5966ba29fefa.json\")\n",
    "# credentials = ee.ServiceAccountCredentials(service_account, \"/content/drive/MyDrive/google_earth_engine/forest-fire-obs-5966ba29fefa.json\")\n",
    "ee.Initialize(credentials=credentials, project='forest-fire-obs')\n",
    "print(ee.String('Hello, Earth Engine!').getInfo())"
   ]
  },
  {
   "cell_type": "code",
   "execution_count": 21,
   "metadata": {
    "id": "BbBvNjUbZapp"
   },
   "outputs": [],
   "source": [
    "def region_parameter(point, parameter,size):\n",
    "  # Initialize an empty matrix with zeros\n",
    "  matrix = [[0 for _ in range(size)] for _ in range(size)]\n",
    "\n",
    "  # x = ((math.floor(size/2))- size)*1000+1\n",
    "  # y = (size -(math.floor(size/2)))*1000+1\n",
    "\n",
    "  x=(size*-1000) +1\n",
    "  y=(size*1000) +1\n",
    "\n",
    "  # Fill the matrix with numbers according to the specified conditions\n",
    "  for i in range(size):\n",
    "    y = y -1000\n",
    "    # x = ((math.floor(size/2))- size)*1000+1\n",
    "    x=(size*-1000) +1\n",
    "    for j in range(size):\n",
    "      x = x+ 1000\n",
    "      location = point.buffer(y,x).centroid()\n",
    "      print('x= ', x , 'y= ',y)\n",
    "\n",
    "      # Load the image collection\n",
    "      image = ee.ImageCollection(\"NOAA/GFS0P25\").filterDate('2024-01-01', '2024-01-02').first()\n",
    "      # Get the parameter value at the current point\n",
    "      parameter_value = image.reduceRegion(ee.Reducer.first(), location).get(parameter).getInfo()\n",
    "\n",
    "      # Add the parameter value to the matrix\n",
    "      matrix[i][j] = parameter_value\n",
    "\n",
    "  return matrix\n"
   ]
  },
  {
   "cell_type": "code",
   "execution_count": 22,
   "metadata": {
    "colab": {
     "base_uri": "https://localhost:8080/"
    },
    "id": "RMPLrbR2ZbcR",
    "outputId": "c3c61c91-7a53-47fb-a8a5-d78d5453cc90"
   },
   "outputs": [
    {
     "name": "stdout",
     "output_type": "stream",
     "text": [
      "x=  -1999 y=  2001\n",
      "x=  -999 y=  2001\n",
      "x=  1 y=  2001\n",
      "x=  -1999 y=  1001\n",
      "x=  -999 y=  1001\n",
      "x=  1 y=  1001\n",
      "x=  -1999 y=  1\n",
      "x=  -999 y=  1\n",
      "x=  1 y=  1\n",
      "Parameter values for the square region around the original point:\n",
      "[7.824853515625023, 7.824853515625023, 7.824853515625023]\n",
      "[7.824853515625023, 7.824853515625023, 7.824853515625023]\n",
      "[7.824853515625023, 7.824853515625023, 7.824853515625023]\n"
     ]
    }
   ],
   "source": [
    "# Define the original point of interest (Lahore, Pakistan)\n",
    "original_point = ee.Geometry.Point(74.3587, 31.5204)\n",
    "matrix_size = 3\n",
    "# Get information for the square region around the original point for the parameter 'temperature_2m_above_ground'\n",
    "region_info = region_parameter(original_point, 'temperature_2m_above_ground',matrix_size)\n",
    "\n",
    "# Print the parameter values as a matrix\n",
    "print(\"Parameter values for the square region around the original point:\")\n",
    "for row in region_info:\n",
    "    print(row)"
   ]
  },
  {
   "cell_type": "code",
   "execution_count": 23,
   "metadata": {
    "colab": {
     "base_uri": "https://localhost:8080/"
    },
    "id": "kBonJJAzyfQU",
    "outputId": "2a159026-a0c4-417d-d960-abccb2c8215b"
   },
   "outputs": [
    {
     "name": "stderr",
     "output_type": "stream",
     "text": [
      "100%|█████████████████████████████████████████████| 6/6 [00:42<00:00,  7.13s/it]\n",
      "100%|█████████████████████████████████████████████| 6/6 [00:41<00:00,  6.98s/it]\n",
      "100%|█████████████████████████████████████████████| 6/6 [00:33<00:00,  5.55s/it]\n",
      "100%|█████████████████████████████████████████████| 6/6 [00:27<00:00,  4.65s/it]\n",
      "100%|█████████████████████████████████████████████| 6/6 [00:27<00:00,  4.66s/it]\n",
      "100%|█████████████████████████████████████████████| 6/6 [00:28<00:00,  4.80s/it]"
     ]
    },
    {
     "name": "stdout",
     "output_type": "stream",
     "text": [
      "Parameter values and elevations for the square region around the original point:\n",
      "{'wind_direction': [274, 274, 274, 274, 274, 274, 271, 271, 271, 271, 271, 271, 271, 271, 271, 271, 271, 271, 271, 271, 271, 271, 271, 271, 271, 271, 271, 271, 271, 271, 271, 271, 271, 271, 271, 271], 'wind_speed': [6.040984153747559, 6.040984153747559, 6.040984153747559, 6.1478590965271, 6.1478590965271, 6.1478590965271, 5.926466941833496, 5.926466941833496, 5.926466941833496, 6.022069931030273, 6.022069931030273, 6.022069931030273, 5.926466941833496, 5.926466941833496, 5.926466941833496, 6.022069931030273, 6.022069931030273, 6.022069931030273, 5.926466941833496, 5.926466941833496, 5.926466941833496, 6.022069931030273, 6.022069931030273, 6.022069931030273, 5.926466941833496, 5.926466941833496, 5.926466941833496, 6.022069931030273, 6.022069931030273, 6.022069931030273, 5.926466941833496, 5.926466941833496, 5.926466941833496, 6.022069931030273, 6.022069931030273, 6.022069931030273], 'min_temperature': [284.0075378417969, 284.0075378417969, 284.0075378417969, 284.28668212890625, 284.28668212890625, 284.28668212890625, 282.98321533203125, 282.98321533203125, 282.98321533203125, 283.1118469238281, 283.1118469238281, 283.1118469238281, 282.98321533203125, 282.98321533203125, 282.98321533203125, 283.1118469238281, 283.1118469238281, 283.1118469238281, 282.98321533203125, 282.98321533203125, 282.98321533203125, 283.1118469238281, 283.1118469238281, 283.1118469238281, 282.98321533203125, 282.98321533203125, 282.98321533203125, 283.1118469238281, 283.1118469238281, 283.1118469238281, 282.98321533203125, 282.98321533203125, 282.98321533203125, 283.1118469238281, 283.1118469238281, 283.1118469238281], 'max_temperature': [293.91717529296875, 293.91717529296875, 293.91717529296875, 294.33355712890625, 294.33355712890625, 294.33355712890625, 293.46868896484375, 293.46868896484375, 293.46868896484375, 293.68243408203125, 293.68243408203125, 293.68243408203125, 293.46868896484375, 293.46868896484375, 293.46868896484375, 293.68243408203125, 293.68243408203125, 293.68243408203125, 293.46868896484375, 293.46868896484375, 293.46868896484375, 293.68243408203125, 293.68243408203125, 293.68243408203125, 293.46868896484375, 293.46868896484375, 293.46868896484375, 293.68243408203125, 293.68243408203125, 293.68243408203125, 293.46868896484375, 293.46868896484375, 293.46868896484375, 293.68243408203125, 293.68243408203125, 293.68243408203125], 'humidity': [0.008715897798538208, 0.008715897798538208, 0.008715897798538208, 0.008991462178528309, 0.008991462178528309, 0.008991462178528309, 0.008680760860443115, 0.008680760860443115, 0.008680760860443115, 0.008846573531627655, 0.008846573531627655, 0.008846573531627655, 0.008680760860443115, 0.008680760860443115, 0.008680760860443115, 0.008846573531627655, 0.008846573531627655, 0.008846573531627655, 0.008680760860443115, 0.008680760860443115, 0.008680760860443115, 0.008846573531627655, 0.008846573531627655, 0.008846573531627655, 0.008680760860443115, 0.008680760860443115, 0.008680760860443115, 0.008846573531627655, 0.008846573531627655, 0.008846573531627655, 0.008680760860443115, 0.008680760860443115, 0.008680760860443115, 0.008846573531627655, 0.008846573531627655, 0.008846573531627655], 'precipitation': [6.159738063812256, 6.159738063812256, 6.159738063812256, 6.125580787658691, 6.125580787658691, 6.125580787658691, 6.0686516761779785, 6.0686516761779785, 6.0686516761779785, 6.097115993499756, 6.097115993499756, 6.097115993499756, 6.0686516761779785, 6.0686516761779785, 6.0686516761779785, 6.097115993499756, 6.097115993499756, 6.097115993499756, 6.0686516761779785, 6.0686516761779785, 6.0686516761779785, 6.097115993499756, 6.097115993499756, 6.097115993499756, 6.0686516761779785, 6.0686516761779785, 6.0686516761779785, 6.097115993499756, 6.097115993499756, 6.097115993499756, 6.0686516761779785, 6.0686516761779785, 6.0686516761779785, 6.097115993499756, 6.097115993499756, 6.097115993499756], 'vegetation': [5652, 4970, 6263, 207, 1718, 5932, 6354, 6338, 6501, -3319, 3761, 5216, 6831, 5838, 3445, 6000, -4637, 501, 5857, 6477, 2048, 6367, -1509, 6953, 7138, 6959, 5708, 4200, 6141, 7335, 7340, 7141, -3902, -3972, 4227, 7029], 'elevation': [123, 96, 83, 68, 68, 85, 143, 103, 72, 68, 68, 70, 126, 108, 68, 76, 68, 69, 137, 119, 68, 68, 68, 82, 108, 91, 68, 70, 68, 88, 109, 82, 68, 68, 68, 87], 'population_density': [23.523677825927734, 32.332942962646484, 0.5694394111633301, 0.08282442390918732, 3.3778769969940186, 10.126486778259277, 17.903596878051758, 10.693251609802246, 0.7468814253807068, 0.36420831084251404, 6.338906288146973, 9.854687690734863, 17.606311798095703, 7.322504043579102, 0.4749462604522705, 3.1347525119781494, 1.6997766494750977, 0.4132380485534668, 31.440940856933594, 1.931122899055481, 0, 0, 0.4092751145362854, 2.7998743057250977, 23.351482391357422, 4.76303768157959, 0.18244001269340515, 0, 0.8328474760055542, 2.6846861839294434, 10.135137557983398, 8.387365341186523, 0.9854134917259216, 0, 1.7607195377349854, 3.1955020427703857], 'drought_index': [-0.15000000596046448, -0.15000000596046448, -0.15000000596046448, -0.15000000596046448, -0.15000000596046448, -0.15000000596046448, -0.15000000596046448, -0.15000000596046448, -0.15000000596046448, -0.15000000596046448, -0.15000000596046448, -0.15000000596046448, -0.15000000596046448, -0.15000000596046448, -0.15000000596046448, -0.15000000596046448, -0.15000000596046448, -0.15000000596046448, -0.15000000596046448, -0.15000000596046448, -0.15000000596046448, -0.15000000596046448, -0.15000000596046448, -0.15000000596046448, -0.15000000596046448, -0.15000000596046448, -0.15000000596046448, -0.15000000596046448, -0.15000000596046448, -0.15000000596046448, -0.15000000596046448, -0.15000000596046448, -0.15000000596046448, -0.15000000596046448, -0.15000000596046448, -0.15000000596046448], 'energy_release_component': [5.031797409057617, 5.031797409057617, 5.031797409057617, 4.951073169708252, 4.951073169708252, 4.951073169708252, 4.942103862762451, 4.942103862762451, 4.942103862762451, 4.890081882476807, 4.890081882476807, 4.890081882476807, 4.942103862762451, 4.942103862762451, 4.942103862762451, 4.890081882476807, 4.890081882476807, 4.890081882476807, 4.942103862762451, 4.942103862762451, 4.942103862762451, 4.890081882476807, 4.890081882476807, 4.890081882476807, 4.942103862762451, 4.942103862762451, 4.942103862762451, 4.890081882476807, 4.890081882476807, 4.890081882476807, 4.942103862762451, 4.942103862762451, 4.942103862762451, 4.890081882476807, 4.890081882476807, 4.890081882476807], 'coordinates': [(-79.06736488554685, 35.760130294641336), (-79.05628227170453, 35.760130294641336), (-79.04519965786221, 35.760130294641336), (-79.0341170440199, 35.760130294641336), (-79.02303443017757, 35.760130294641336), (-79.01195181633526, 35.760130294641336), (-79.06736488554685, 35.75113707858215), (-79.0562835241836, 35.75113707858215), (-79.04520216282033, 35.75113707858215), (-79.03412080145708, 35.75113707858215), (-79.02303944009383, 35.75113707858215), (-79.01195807873056, 35.75113707858215), (-79.06736488554685, 35.74214386252296), (-79.05628477610666, 35.74214386252296), (-79.04520466666648, 35.74214386252296), (-79.03412455722629, 35.74214386252296), (-79.02304444778609, 35.74214386252296), (-79.01196433834589, 35.74214386252296), (-79.06736488554685, 35.73315064646377), (-79.05628602747394, 35.73315064646377), (-79.04520716940105, 35.73315064646377), (-79.03412831132815, 35.73315064646377), (-79.02304945325524, 35.73315064646377), (-79.01197059518233, 35.73315064646377), (-79.06736488554685, 35.72415743040458), (-79.05628727828572, 35.72415743040458), (-79.04520967102461, 35.72415743040458), (-79.03413206376348, 35.72415743040458), (-79.02305445650235, 35.72415743040458), (-79.01197684924122, 35.72415743040458), (-79.06736488554685, 35.71516421434539), (-79.05628852854225, 35.71516421434539), (-79.04521217153766, 35.71516421434539), (-79.03413581453307, 35.71516421434539), (-79.02305945752848, 35.71516421434539), (-79.01198310052389, 35.71516421434539)]}\n"
     ]
    },
    {
     "name": "stderr",
     "output_type": "stream",
     "text": [
      "\n"
     ]
    }
   ],
   "source": [
    "import ee\n",
    "import math\n",
    "\n",
    "def coordinates_1km_right(lat, lng):\n",
    "    earth_radius = 6371.0  # Radius of the Earth in km\n",
    "\n",
    "    lat_rad = radians(lat)\n",
    "    lng_rad = radians(lng)\n",
    "\n",
    "    angular_distance = 1/earth_radius\n",
    "\n",
    "    new_lat_rad = lat_rad\n",
    "    new_lng_rad = lng_rad + atan2(sin(angular_distance) * cos(lat_rad), cos(angular_distance) - sin(lat_rad) * sin(lat_rad))\n",
    "\n",
    "    new_lat = degrees(new_lat_rad)\n",
    "    new_lng = degrees(new_lng_rad)\n",
    "\n",
    "    return new_lat, new_lng\n",
    "\n",
    "def coordinates_1km_below(lat, lng):\n",
    "    earth_radius = 6371.0  # Radius of the Earth in km\n",
    "\n",
    "    lat_rad = radians(lat)\n",
    "    lng_rad = radians(lng)\n",
    "\n",
    "    angular_distance = 1/earth_radius\n",
    "\n",
    "    new_lat_rad = lat_rad - angular_distance\n",
    "\n",
    "    new_lon_rad = lng_rad\n",
    "\n",
    "    new_lat = degrees(new_lat_rad)\n",
    "    new_lng = degrees(new_lon_rad)\n",
    "\n",
    "    return new_lat, new_lng\n",
    "\n",
    "def region_parameter(longitude, latitude, size):\n",
    "    # Initialize an empty dictionary to store parameter values\n",
    "    location = ee.Geometry.Point(longitude, latitude)\n",
    "    parameters = {\n",
    "        'wind_direction': [],\n",
    "        'wind_speed': [],\n",
    "        'min_temperature': [],\n",
    "        'max_temperature': [],\n",
    "        'humidity': [],\n",
    "        'precipitation': [],\n",
    "        'vegetation': [],\n",
    "        'elevation': [],\n",
    "        'population_density': [],\n",
    "        'drought_index': [],\n",
    "        'energy_release_component': [],\n",
    "        'coordinates': []\n",
    "    }\n",
    "\n",
    "    # x = ((math.floor(size / 2)) - size) * 1000 + 1\n",
    "    # y = (size - (math.floor(size / 2))) * 1000 + 1\n",
    "\n",
    "    # x=(size*-1000) +1\n",
    "    # y=(size*1000) +1\n",
    "    original_longitude = longitude\n",
    "    original_latitude = latitude\n",
    "    # Loop over the grid\n",
    "    for i in range(size):\n",
    "        # y = y - 1000\n",
    "        # x = ((math.floor(size / 2)) - size) * 1000 + 1\n",
    "        # x=(size*-1000) +1\n",
    "\n",
    "\n",
    "        for j in tqdm(range(size)):\n",
    "            # x = x + 1000\n",
    "            # location = point.buffer((x, y)).centroid()\n",
    "\n",
    "            # # Get elevation\n",
    "            elevation = ee.Image(\"CGIAR/SRTM90_V4\").select('elevation')\n",
    "            elevation_value = elevation.reduceRegion(ee.Reducer.first(), location).get('elevation').getInfo()\n",
    "\n",
    "            # # Get wind direction\n",
    "            wind_direction = ee.ImageCollection(\"IDAHO_EPSCOR/GRIDMET\").filterDate('2020-04-06', '2024-05-06').select('th').first()\n",
    "            wind_direction_value = wind_direction.reduceRegion(ee.Reducer.first(), location).get('th').getInfo()\n",
    "\n",
    "            # Get wind speed\n",
    "            wind_speed = ee.ImageCollection(\"IDAHO_EPSCOR/GRIDMET\").filterDate('1979-01-01', '2024-05-06').select('vs').first()\n",
    "            wind_speed_value = wind_speed.reduceRegion(ee.Reducer.first(), location).get('vs').getInfo()\n",
    "\n",
    "            # Get min temperature\n",
    "            min_temperature = ee.ImageCollection(\"IDAHO_EPSCOR/GRIDMET\").filterDate('1979-01-01', '2024-05-06').select('tmmn').first()\n",
    "            min_temperature_value = min_temperature.reduceRegion(ee.Reducer.first(), location).get('tmmn').getInfo()\n",
    "\n",
    "            # Get max temperature\n",
    "            max_temperature = ee.ImageCollection(\"IDAHO_EPSCOR/GRIDMET\").filterDate('1979-01-01', '2024-05-06').select('tmmx').first()\n",
    "            max_temperature_value = max_temperature.reduceRegion(ee.Reducer.first(), location).get('tmmx').getInfo()\n",
    "\n",
    "            # # Get humidity\n",
    "            humidity = ee.ImageCollection(\"IDAHO_EPSCOR/GRIDMET\").filterDate('1979-01-01', '2024-05-06').select('sph').first()\n",
    "            humidity_value = humidity.reduceRegion(ee.Reducer.first(), location).get('sph').getInfo()\n",
    "\n",
    "            # Get precipitation\n",
    "            precipitation = ee.ImageCollection(\"IDAHO_EPSCOR/GRIDMET\").filterDate('1979-01-01', '2024-05-06').select('pr').first()\n",
    "            precipitation_value = precipitation.reduceRegion(ee.Reducer.first(), location).get('pr').getInfo()\n",
    "\n",
    "            # Get vegetation\n",
    "            vegetation = ee.ImageCollection(\"NOAA/VIIRS/001/VNP13A1\").filterDate('2012-01-17', '2024-04-14').select('NDVI').first()\n",
    "            vegetation_value = vegetation.reduceRegion(ee.Reducer.first(), location).get('NDVI').getInfo()\n",
    "\n",
    "             # Get population count\n",
    "            population_count = ee.ImageCollection(\"CIESIN/GPWv411/GPW_Population_Count\").filterDate('2000-01-01', '2020-01-01').first()\n",
    "            population_count_value = population_count.reduceRegion(ee.Reducer.first(), location).get('population_count').getInfo()\n",
    "\n",
    "            # Get PDSI\n",
    "            pdsi = ee.ImageCollection(\"GRIDMET/DROUGHT\").filterDate('1980-01-05', '2024-04-29').select('pdsi').first()\n",
    "            pdsi_value = pdsi.reduceRegion(ee.Reducer.first(), location).get('pdsi').getInfo()\n",
    "\n",
    "            # Get ERC\n",
    "            erc = ee.ImageCollection(\"IDAHO_EPSCOR/GRIDMET\").filterDate('1979-01-01', '2024-05-06').select('erc').first()\n",
    "            erc_value = erc.reduceRegion(ee.Reducer.first(), location).get('erc').getInfo()\n",
    "\n",
    "            # # Load the image collection\n",
    "            # collection = ee.ImageCollection(\"NOAA/GFS0P25\")\n",
    "            # # Filter the collection by date\n",
    "            # filtered_collection = collection.filterDate('2024-01-01', '2024-01-02')\n",
    "            # # Select the parameter band\n",
    "            # parameter_band = parameter\n",
    "            # # Get the first image in the filtered collection\n",
    "            # image = filtered_collection.first()\n",
    "            # # Get the parameter value at the current point\n",
    "            # parameter_value = image.reduceRegion(ee.Reducer.first(), location).get(parameter_band).getInfo()\n",
    "\n",
    "\n",
    "            # Add values to the dictionary\n",
    "            parameters['elevation'].append(elevation_value)\n",
    "            parameters['wind_direction'].append(wind_direction_value)\n",
    "            parameters['wind_speed'].append(wind_speed_value)\n",
    "            parameters['min_temperature'].append(min_temperature_value)\n",
    "            parameters['max_temperature'].append(max_temperature_value)\n",
    "            parameters['humidity'].append(humidity_value)\n",
    "            parameters['precipitation'].append(precipitation_value)\n",
    "            parameters['vegetation'].append(vegetation_value)\n",
    "            parameters['population_density'].append(population_count_value)\n",
    "            parameters['drought_index'].append(pdsi_value)\n",
    "            parameters['energy_release_component'].append(erc_value)\n",
    "            parameters['coordinates'].append((longitude, latitude))\n",
    "\n",
    "            latitude, longitude = coordinates_1km_right(latitude, longitude)\n",
    "            location = ee.Geometry.Point(longitude, latitude)\n",
    "        longitude = original_longitude\n",
    "        latitude, longitude = coordinates_1km_below(latitude, longitude)\n",
    "        location = ee.Geometry.Point(longitude, latitude)\n",
    "\n",
    "\n",
    "\n",
    "    return parameters\n",
    "\n",
    "# Define the original point of interest (Lahore, Pakistan)\n",
    "longitude = -79.06736488554685\n",
    "latitude = 35.760130294641336\n",
    "original_point = ee.Geometry.Point(longitude, latitude)\n",
    "matrix_size = 10  # Reduced matrix size for demonstration\n",
    "# Get information for the square region around the original point\n",
    "region_info = region_parameter(longitude, latitude, matrix_size)\n",
    "\n",
    "# Print the parameter values and elevations as a dictionary\n",
    "print(\"Parameter values and elevations for the square region around the original point:\")\n",
    "print(region_info)\n"
   ]
  },
  {
   "cell_type": "code",
   "execution_count": null,
   "metadata": {},
   "outputs": [],
   "source": []
  }
 ],
 "metadata": {
  "colab": {
   "provenance": []
  },
  "kernelspec": {
   "display_name": "Python 3 (ipykernel)",
   "language": "python",
   "name": "python3"
  },
  "language_info": {
   "codemirror_mode": {
    "name": "ipython",
    "version": 3
   },
   "file_extension": ".py",
   "mimetype": "text/x-python",
   "name": "python",
   "nbconvert_exporter": "python",
   "pygments_lexer": "ipython3",
   "version": "3.11.5"
  }
 },
 "nbformat": 4,
 "nbformat_minor": 4
}
