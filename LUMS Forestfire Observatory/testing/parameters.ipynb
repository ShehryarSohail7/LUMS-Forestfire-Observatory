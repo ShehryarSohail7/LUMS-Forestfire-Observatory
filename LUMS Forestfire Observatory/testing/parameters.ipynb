{
 "cells": [
  {
   "cell_type": "code",
   "execution_count": 1,
   "metadata": {},
   "outputs": [],
   "source": [
    "import ee \n",
    "import os\n",
    "# from io import StringIO"
   ]
  },
  {
   "cell_type": "code",
   "execution_count": 3,
   "metadata": {},
   "outputs": [
    {
     "name": "stdout",
     "output_type": "stream",
     "text": [
      "Hello, Earth Engine!\n"
     ]
    }
   ],
   "source": [
    "ee.Authenticate()\n",
    "service_account = \"lums-forest-fire-observatory@forest-fire-obs.iam.gserviceaccount.com\"\n",
    "credentials = ee.ServiceAccountCredentials(service_account, \"forest-fire-obs-5966ba29fefa.json\")\n",
    "ee.Initialize(credentials=credentials, project='forest-fire-obs')\n",
    "print(ee.String('Hello, Earth Engine!').getInfo())"
   ]
  },
  {
   "cell_type": "code",
   "execution_count": null,
   "metadata": {},
   "outputs": [],
   "source": []
  }
 ],
 "metadata": {
  "kernelspec": {
   "display_name": "env",
   "language": "python",
   "name": "python3"
  },
  "language_info": {
   "codemirror_mode": {
    "name": "ipython",
    "version": 3
   },
   "file_extension": ".py",
   "mimetype": "text/x-python",
   "name": "python",
   "nbconvert_exporter": "python",
   "pygments_lexer": "ipython3",
   "version": "3.11.5"
  }
 },
 "nbformat": 4,
 "nbformat_minor": 2
}
